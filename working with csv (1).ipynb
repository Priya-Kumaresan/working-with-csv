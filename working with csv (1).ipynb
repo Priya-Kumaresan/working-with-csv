{
  "metadata": {
    "kernelspec": {
      "name": "python",
      "display_name": "Python (Pyodide)",
      "language": "python"
    },
    "language_info": {
      "codemirror_mode": {
        "name": "python",
        "version": 3
      },
      "file_extension": ".py",
      "mimetype": "text/x-python",
      "name": "python",
      "nbconvert_exporter": "python",
      "pygments_lexer": "ipython3",
      "version": "3.8"
    }
  },
  "nbformat_minor": 4,
  "nbformat": 4,
  "cells": [
    {
      "cell_type": "code",
      "source": "import pandas as pd",
      "metadata": {
        "trusted": true
      },
      "outputs": [],
      "execution_count": 1
    },
    {
      "cell_type": "code",
      "source": "df=pd.read_csv(\"indian_food.csv\")",
      "metadata": {
        "trusted": true
      },
      "outputs": [],
      "execution_count": 6
    },
    {
      "cell_type": "code",
      "source": "df.head()",
      "metadata": {
        "trusted": true
      },
      "outputs": [
        {
          "execution_count": 7,
          "output_type": "execute_result",
          "data": {
            "text/plain": "             name                                        ingredients  \\\n0      Balu shahi                    Maida flour, yogurt, oil, sugar   \n1          Boondi                            Gram flour, ghee, sugar   \n2  Gajar ka halwa       Carrots, milk, sugar, ghee, cashews, raisins   \n3          Ghevar  Flour, ghee, kewra, milk, clarified butter, su...   \n4     Gulab jamun  Milk powder, plain flour, baking powder, ghee,...   \n\n         diet  prep_time  cook_time flavor_profile   course        state  \\\n0  vegetarian         45         25          sweet  dessert  West Bengal   \n1  vegetarian         80         30          sweet  dessert    Rajasthan   \n2  vegetarian         15         60          sweet  dessert       Punjab   \n3  vegetarian         15         30          sweet  dessert    Rajasthan   \n4  vegetarian         15         40          sweet  dessert  West Bengal   \n\n  region  \n0   East  \n1   West  \n2  North  \n3   West  \n4   East  ",
            "text/html": "<div>\n<style scoped>\n    .dataframe tbody tr th:only-of-type {\n        vertical-align: middle;\n    }\n\n    .dataframe tbody tr th {\n        vertical-align: top;\n    }\n\n    .dataframe thead th {\n        text-align: right;\n    }\n</style>\n<table border=\"1\" class=\"dataframe\">\n  <thead>\n    <tr style=\"text-align: right;\">\n      <th></th>\n      <th>name</th>\n      <th>ingredients</th>\n      <th>diet</th>\n      <th>prep_time</th>\n      <th>cook_time</th>\n      <th>flavor_profile</th>\n      <th>course</th>\n      <th>state</th>\n      <th>region</th>\n    </tr>\n  </thead>\n  <tbody>\n    <tr>\n      <th>0</th>\n      <td>Balu shahi</td>\n      <td>Maida flour, yogurt, oil, sugar</td>\n      <td>vegetarian</td>\n      <td>45</td>\n      <td>25</td>\n      <td>sweet</td>\n      <td>dessert</td>\n      <td>West Bengal</td>\n      <td>East</td>\n    </tr>\n    <tr>\n      <th>1</th>\n      <td>Boondi</td>\n      <td>Gram flour, ghee, sugar</td>\n      <td>vegetarian</td>\n      <td>80</td>\n      <td>30</td>\n      <td>sweet</td>\n      <td>dessert</td>\n      <td>Rajasthan</td>\n      <td>West</td>\n    </tr>\n    <tr>\n      <th>2</th>\n      <td>Gajar ka halwa</td>\n      <td>Carrots, milk, sugar, ghee, cashews, raisins</td>\n      <td>vegetarian</td>\n      <td>15</td>\n      <td>60</td>\n      <td>sweet</td>\n      <td>dessert</td>\n      <td>Punjab</td>\n      <td>North</td>\n    </tr>\n    <tr>\n      <th>3</th>\n      <td>Ghevar</td>\n      <td>Flour, ghee, kewra, milk, clarified butter, su...</td>\n      <td>vegetarian</td>\n      <td>15</td>\n      <td>30</td>\n      <td>sweet</td>\n      <td>dessert</td>\n      <td>Rajasthan</td>\n      <td>West</td>\n    </tr>\n    <tr>\n      <th>4</th>\n      <td>Gulab jamun</td>\n      <td>Milk powder, plain flour, baking powder, ghee,...</td>\n      <td>vegetarian</td>\n      <td>15</td>\n      <td>40</td>\n      <td>sweet</td>\n      <td>dessert</td>\n      <td>West Bengal</td>\n      <td>East</td>\n    </tr>\n  </tbody>\n</table>\n</div>"
          },
          "metadata": {}
        }
      ],
      "execution_count": 7
    },
    {
      "cell_type": "code",
      "source": "df.shape",
      "metadata": {
        "trusted": true
      },
      "outputs": [
        {
          "execution_count": 9,
          "output_type": "execute_result",
          "data": {
            "text/plain": "(255, 9)"
          },
          "metadata": {}
        }
      ],
      "execution_count": 9
    },
    {
      "cell_type": "code",
      "source": "import numpy as np\nweights=np.array([0.3])",
      "metadata": {
        "trusted": true
      },
      "outputs": [],
      "execution_count": 11
    },
    {
      "cell_type": "code",
      "source": "type(df)",
      "metadata": {
        "trusted": true
      },
      "outputs": [
        {
          "execution_count": 14,
          "output_type": "execute_result",
          "data": {
            "text/plain": "pandas.core.frame.DataFrame"
          },
          "metadata": {}
        }
      ],
      "execution_count": 14
    },
    {
      "cell_type": "code",
      "source": "df",
      "metadata": {
        "trusted": true
      },
      "outputs": [
        {
          "execution_count": 15,
          "output_type": "execute_result",
          "data": {
            "text/plain": "               name                                        ingredients  \\\n0        Balu shahi                    Maida flour, yogurt, oil, sugar   \n1            Boondi                            Gram flour, ghee, sugar   \n2    Gajar ka halwa       Carrots, milk, sugar, ghee, cashews, raisins   \n3            Ghevar  Flour, ghee, kewra, milk, clarified butter, su...   \n4       Gulab jamun  Milk powder, plain flour, baking powder, ghee,...   \n..              ...                                                ...   \n250       Til Pitha            Glutinous rice, black sesame seeds, gur   \n251         Bebinca  Coconut milk, egg yolks, clarified butter, all...   \n252          Shufta  Cottage cheese, dry dates, dried rose petals, ...   \n253       Mawa Bati  Milk powder, dry fruits, arrowroot powder, all...   \n254          Pinaca  Brown rice, fennel seeds, grated coconut, blac...   \n\n           diet  prep_time  cook_time flavor_profile   course  \\\n0    vegetarian         45         25          sweet  dessert   \n1    vegetarian         80         30          sweet  dessert   \n2    vegetarian         15         60          sweet  dessert   \n3    vegetarian         15         30          sweet  dessert   \n4    vegetarian         15         40          sweet  dessert   \n..          ...        ...        ...            ...      ...   \n250  vegetarian          5         30          sweet  dessert   \n251  vegetarian         20         60          sweet  dessert   \n252  vegetarian         -1         -1          sweet  dessert   \n253  vegetarian         20         45          sweet  dessert   \n254  vegetarian         -1         -1          sweet  dessert   \n\n               state      region  \n0        West Bengal        East  \n1          Rajasthan        West  \n2             Punjab       North  \n3          Rajasthan        West  \n4        West Bengal        East  \n..               ...         ...  \n250            Assam  North East  \n251              Goa        West  \n252  Jammu & Kashmir       North  \n253   Madhya Pradesh     Central  \n254              Goa        West  \n\n[255 rows x 9 columns]",
            "text/html": "<div>\n<style scoped>\n    .dataframe tbody tr th:only-of-type {\n        vertical-align: middle;\n    }\n\n    .dataframe tbody tr th {\n        vertical-align: top;\n    }\n\n    .dataframe thead th {\n        text-align: right;\n    }\n</style>\n<table border=\"1\" class=\"dataframe\">\n  <thead>\n    <tr style=\"text-align: right;\">\n      <th></th>\n      <th>name</th>\n      <th>ingredients</th>\n      <th>diet</th>\n      <th>prep_time</th>\n      <th>cook_time</th>\n      <th>flavor_profile</th>\n      <th>course</th>\n      <th>state</th>\n      <th>region</th>\n    </tr>\n  </thead>\n  <tbody>\n    <tr>\n      <th>0</th>\n      <td>Balu shahi</td>\n      <td>Maida flour, yogurt, oil, sugar</td>\n      <td>vegetarian</td>\n      <td>45</td>\n      <td>25</td>\n      <td>sweet</td>\n      <td>dessert</td>\n      <td>West Bengal</td>\n      <td>East</td>\n    </tr>\n    <tr>\n      <th>1</th>\n      <td>Boondi</td>\n      <td>Gram flour, ghee, sugar</td>\n      <td>vegetarian</td>\n      <td>80</td>\n      <td>30</td>\n      <td>sweet</td>\n      <td>dessert</td>\n      <td>Rajasthan</td>\n      <td>West</td>\n    </tr>\n    <tr>\n      <th>2</th>\n      <td>Gajar ka halwa</td>\n      <td>Carrots, milk, sugar, ghee, cashews, raisins</td>\n      <td>vegetarian</td>\n      <td>15</td>\n      <td>60</td>\n      <td>sweet</td>\n      <td>dessert</td>\n      <td>Punjab</td>\n      <td>North</td>\n    </tr>\n    <tr>\n      <th>3</th>\n      <td>Ghevar</td>\n      <td>Flour, ghee, kewra, milk, clarified butter, su...</td>\n      <td>vegetarian</td>\n      <td>15</td>\n      <td>30</td>\n      <td>sweet</td>\n      <td>dessert</td>\n      <td>Rajasthan</td>\n      <td>West</td>\n    </tr>\n    <tr>\n      <th>4</th>\n      <td>Gulab jamun</td>\n      <td>Milk powder, plain flour, baking powder, ghee,...</td>\n      <td>vegetarian</td>\n      <td>15</td>\n      <td>40</td>\n      <td>sweet</td>\n      <td>dessert</td>\n      <td>West Bengal</td>\n      <td>East</td>\n    </tr>\n    <tr>\n      <th>...</th>\n      <td>...</td>\n      <td>...</td>\n      <td>...</td>\n      <td>...</td>\n      <td>...</td>\n      <td>...</td>\n      <td>...</td>\n      <td>...</td>\n      <td>...</td>\n    </tr>\n    <tr>\n      <th>250</th>\n      <td>Til Pitha</td>\n      <td>Glutinous rice, black sesame seeds, gur</td>\n      <td>vegetarian</td>\n      <td>5</td>\n      <td>30</td>\n      <td>sweet</td>\n      <td>dessert</td>\n      <td>Assam</td>\n      <td>North East</td>\n    </tr>\n    <tr>\n      <th>251</th>\n      <td>Bebinca</td>\n      <td>Coconut milk, egg yolks, clarified butter, all...</td>\n      <td>vegetarian</td>\n      <td>20</td>\n      <td>60</td>\n      <td>sweet</td>\n      <td>dessert</td>\n      <td>Goa</td>\n      <td>West</td>\n    </tr>\n    <tr>\n      <th>252</th>\n      <td>Shufta</td>\n      <td>Cottage cheese, dry dates, dried rose petals, ...</td>\n      <td>vegetarian</td>\n      <td>-1</td>\n      <td>-1</td>\n      <td>sweet</td>\n      <td>dessert</td>\n      <td>Jammu &amp; Kashmir</td>\n      <td>North</td>\n    </tr>\n    <tr>\n      <th>253</th>\n      <td>Mawa Bati</td>\n      <td>Milk powder, dry fruits, arrowroot powder, all...</td>\n      <td>vegetarian</td>\n      <td>20</td>\n      <td>45</td>\n      <td>sweet</td>\n      <td>dessert</td>\n      <td>Madhya Pradesh</td>\n      <td>Central</td>\n    </tr>\n    <tr>\n      <th>254</th>\n      <td>Pinaca</td>\n      <td>Brown rice, fennel seeds, grated coconut, blac...</td>\n      <td>vegetarian</td>\n      <td>-1</td>\n      <td>-1</td>\n      <td>sweet</td>\n      <td>dessert</td>\n      <td>Goa</td>\n      <td>West</td>\n    </tr>\n  </tbody>\n</table>\n<p>255 rows × 9 columns</p>\n</div>"
          },
          "metadata": {}
        }
      ],
      "execution_count": 15
    },
    {
      "cell_type": "code",
      "source": "df.info()",
      "metadata": {
        "trusted": true
      },
      "outputs": [
        {
          "name": "stdout",
          "text": "<class 'pandas.core.frame.DataFrame'>\nRangeIndex: 255 entries, 0 to 254\nData columns (total 9 columns):\n #   Column          Non-Null Count  Dtype \n---  ------          --------------  ----- \n 0   name            255 non-null    object\n 1   ingredients     255 non-null    object\n 2   diet            255 non-null    object\n 3   prep_time       255 non-null    int64 \n 4   cook_time       255 non-null    int64 \n 5   flavor_profile  255 non-null    object\n 6   course          255 non-null    object\n 7   state           255 non-null    object\n 8   region          254 non-null    object\ndtypes: int64(2), object(7)\nmemory usage: 11.0+ KB\n",
          "output_type": "stream"
        }
      ],
      "execution_count": 16
    },
    {
      "cell_type": "code",
      "source": "df.describe()",
      "metadata": {
        "trusted": true
      },
      "outputs": [
        {
          "execution_count": 17,
          "output_type": "execute_result",
          "data": {
            "text/plain": "        prep_time   cook_time\ncount  255.000000  255.000000\nmean    31.105882   34.529412\nstd     72.554409   48.265650\nmin     -1.000000   -1.000000\n25%     10.000000   20.000000\n50%     10.000000   30.000000\n75%     20.000000   40.000000\nmax    500.000000  720.000000",
            "text/html": "<div>\n<style scoped>\n    .dataframe tbody tr th:only-of-type {\n        vertical-align: middle;\n    }\n\n    .dataframe tbody tr th {\n        vertical-align: top;\n    }\n\n    .dataframe thead th {\n        text-align: right;\n    }\n</style>\n<table border=\"1\" class=\"dataframe\">\n  <thead>\n    <tr style=\"text-align: right;\">\n      <th></th>\n      <th>prep_time</th>\n      <th>cook_time</th>\n    </tr>\n  </thead>\n  <tbody>\n    <tr>\n      <th>count</th>\n      <td>255.000000</td>\n      <td>255.000000</td>\n    </tr>\n    <tr>\n      <th>mean</th>\n      <td>31.105882</td>\n      <td>34.529412</td>\n    </tr>\n    <tr>\n      <th>std</th>\n      <td>72.554409</td>\n      <td>48.265650</td>\n    </tr>\n    <tr>\n      <th>min</th>\n      <td>-1.000000</td>\n      <td>-1.000000</td>\n    </tr>\n    <tr>\n      <th>25%</th>\n      <td>10.000000</td>\n      <td>20.000000</td>\n    </tr>\n    <tr>\n      <th>50%</th>\n      <td>10.000000</td>\n      <td>30.000000</td>\n    </tr>\n    <tr>\n      <th>75%</th>\n      <td>20.000000</td>\n      <td>40.000000</td>\n    </tr>\n    <tr>\n      <th>max</th>\n      <td>500.000000</td>\n      <td>720.000000</td>\n    </tr>\n  </tbody>\n</table>\n</div>"
          },
          "metadata": {}
        }
      ],
      "execution_count": 17
    },
    {
      "cell_type": "code",
      "source": "df.columns",
      "metadata": {
        "trusted": true
      },
      "outputs": [
        {
          "execution_count": 18,
          "output_type": "execute_result",
          "data": {
            "text/plain": "Index(['name', 'ingredients', 'diet', 'prep_time', 'cook_time',\n       'flavor_profile', 'course', 'state', 'region'],\n      dtype='object')"
          },
          "metadata": {}
        }
      ],
      "execution_count": 18
    },
    {
      "cell_type": "code",
      "source": "df['cook_time']",
      "metadata": {
        "trusted": true
      },
      "outputs": [
        {
          "execution_count": 19,
          "output_type": "execute_result",
          "data": {
            "text/plain": "0      25\n1      30\n2      60\n3      30\n4      40\n       ..\n250    30\n251    60\n252    -1\n253    45\n254    -1\nName: cook_time, Length: 255, dtype: int64"
          },
          "metadata": {}
        }
      ],
      "execution_count": 19
    },
    {
      "cell_type": "code",
      "source": "type(df['cook_time'])",
      "metadata": {
        "trusted": true
      },
      "outputs": [
        {
          "execution_count": 20,
          "output_type": "execute_result",
          "data": {
            "text/plain": "pandas.core.series.Series"
          },
          "metadata": {}
        }
      ],
      "execution_count": 20
    },
    {
      "cell_type": "code",
      "source": "df['cook_time'][110]",
      "metadata": {
        "trusted": true
      },
      "outputs": [
        {
          "execution_count": 21,
          "output_type": "execute_result",
          "data": {
            "text/plain": "25"
          },
          "metadata": {}
        }
      ],
      "execution_count": 21
    },
    {
      "cell_type": "code",
      "source": "df.at[110,'cook_time']",
      "metadata": {
        "trusted": true
      },
      "outputs": [
        {
          "execution_count": 22,
          "output_type": "execute_result",
          "data": {
            "text/plain": "25"
          },
          "metadata": {}
        }
      ],
      "execution_count": 22
    },
    {
      "cell_type": "code",
      "source": "df.cook_time",
      "metadata": {
        "trusted": true
      },
      "outputs": [
        {
          "execution_count": 23,
          "output_type": "execute_result",
          "data": {
            "text/plain": "0      25\n1      30\n2      60\n3      30\n4      40\n       ..\n250    30\n251    60\n252    -1\n253    45\n254    -1\nName: cook_time, Length: 255, dtype: int64"
          },
          "metadata": {}
        }
      ],
      "execution_count": 23
    },
    {
      "cell_type": "code",
      "source": "df_copy = df.copy()",
      "metadata": {
        "trusted": true
      },
      "outputs": [],
      "execution_count": 24
    },
    {
      "cell_type": "code",
      "source": "df_copy",
      "metadata": {
        "trusted": true
      },
      "outputs": [
        {
          "execution_count": 25,
          "output_type": "execute_result",
          "data": {
            "text/plain": "               name                                        ingredients  \\\n0        Balu shahi                    Maida flour, yogurt, oil, sugar   \n1            Boondi                            Gram flour, ghee, sugar   \n2    Gajar ka halwa       Carrots, milk, sugar, ghee, cashews, raisins   \n3            Ghevar  Flour, ghee, kewra, milk, clarified butter, su...   \n4       Gulab jamun  Milk powder, plain flour, baking powder, ghee,...   \n..              ...                                                ...   \n250       Til Pitha            Glutinous rice, black sesame seeds, gur   \n251         Bebinca  Coconut milk, egg yolks, clarified butter, all...   \n252          Shufta  Cottage cheese, dry dates, dried rose petals, ...   \n253       Mawa Bati  Milk powder, dry fruits, arrowroot powder, all...   \n254          Pinaca  Brown rice, fennel seeds, grated coconut, blac...   \n\n           diet  prep_time  cook_time flavor_profile   course  \\\n0    vegetarian         45         25          sweet  dessert   \n1    vegetarian         80         30          sweet  dessert   \n2    vegetarian         15         60          sweet  dessert   \n3    vegetarian         15         30          sweet  dessert   \n4    vegetarian         15         40          sweet  dessert   \n..          ...        ...        ...            ...      ...   \n250  vegetarian          5         30          sweet  dessert   \n251  vegetarian         20         60          sweet  dessert   \n252  vegetarian         -1         -1          sweet  dessert   \n253  vegetarian         20         45          sweet  dessert   \n254  vegetarian         -1         -1          sweet  dessert   \n\n               state      region  \n0        West Bengal        East  \n1          Rajasthan        West  \n2             Punjab       North  \n3          Rajasthan        West  \n4        West Bengal        East  \n..               ...         ...  \n250            Assam  North East  \n251              Goa        West  \n252  Jammu & Kashmir       North  \n253   Madhya Pradesh     Central  \n254              Goa        West  \n\n[255 rows x 9 columns]",
            "text/html": "<div>\n<style scoped>\n    .dataframe tbody tr th:only-of-type {\n        vertical-align: middle;\n    }\n\n    .dataframe tbody tr th {\n        vertical-align: top;\n    }\n\n    .dataframe thead th {\n        text-align: right;\n    }\n</style>\n<table border=\"1\" class=\"dataframe\">\n  <thead>\n    <tr style=\"text-align: right;\">\n      <th></th>\n      <th>name</th>\n      <th>ingredients</th>\n      <th>diet</th>\n      <th>prep_time</th>\n      <th>cook_time</th>\n      <th>flavor_profile</th>\n      <th>course</th>\n      <th>state</th>\n      <th>region</th>\n    </tr>\n  </thead>\n  <tbody>\n    <tr>\n      <th>0</th>\n      <td>Balu shahi</td>\n      <td>Maida flour, yogurt, oil, sugar</td>\n      <td>vegetarian</td>\n      <td>45</td>\n      <td>25</td>\n      <td>sweet</td>\n      <td>dessert</td>\n      <td>West Bengal</td>\n      <td>East</td>\n    </tr>\n    <tr>\n      <th>1</th>\n      <td>Boondi</td>\n      <td>Gram flour, ghee, sugar</td>\n      <td>vegetarian</td>\n      <td>80</td>\n      <td>30</td>\n      <td>sweet</td>\n      <td>dessert</td>\n      <td>Rajasthan</td>\n      <td>West</td>\n    </tr>\n    <tr>\n      <th>2</th>\n      <td>Gajar ka halwa</td>\n      <td>Carrots, milk, sugar, ghee, cashews, raisins</td>\n      <td>vegetarian</td>\n      <td>15</td>\n      <td>60</td>\n      <td>sweet</td>\n      <td>dessert</td>\n      <td>Punjab</td>\n      <td>North</td>\n    </tr>\n    <tr>\n      <th>3</th>\n      <td>Ghevar</td>\n      <td>Flour, ghee, kewra, milk, clarified butter, su...</td>\n      <td>vegetarian</td>\n      <td>15</td>\n      <td>30</td>\n      <td>sweet</td>\n      <td>dessert</td>\n      <td>Rajasthan</td>\n      <td>West</td>\n    </tr>\n    <tr>\n      <th>4</th>\n      <td>Gulab jamun</td>\n      <td>Milk powder, plain flour, baking powder, ghee,...</td>\n      <td>vegetarian</td>\n      <td>15</td>\n      <td>40</td>\n      <td>sweet</td>\n      <td>dessert</td>\n      <td>West Bengal</td>\n      <td>East</td>\n    </tr>\n    <tr>\n      <th>...</th>\n      <td>...</td>\n      <td>...</td>\n      <td>...</td>\n      <td>...</td>\n      <td>...</td>\n      <td>...</td>\n      <td>...</td>\n      <td>...</td>\n      <td>...</td>\n    </tr>\n    <tr>\n      <th>250</th>\n      <td>Til Pitha</td>\n      <td>Glutinous rice, black sesame seeds, gur</td>\n      <td>vegetarian</td>\n      <td>5</td>\n      <td>30</td>\n      <td>sweet</td>\n      <td>dessert</td>\n      <td>Assam</td>\n      <td>North East</td>\n    </tr>\n    <tr>\n      <th>251</th>\n      <td>Bebinca</td>\n      <td>Coconut milk, egg yolks, clarified butter, all...</td>\n      <td>vegetarian</td>\n      <td>20</td>\n      <td>60</td>\n      <td>sweet</td>\n      <td>dessert</td>\n      <td>Goa</td>\n      <td>West</td>\n    </tr>\n    <tr>\n      <th>252</th>\n      <td>Shufta</td>\n      <td>Cottage cheese, dry dates, dried rose petals, ...</td>\n      <td>vegetarian</td>\n      <td>-1</td>\n      <td>-1</td>\n      <td>sweet</td>\n      <td>dessert</td>\n      <td>Jammu &amp; Kashmir</td>\n      <td>North</td>\n    </tr>\n    <tr>\n      <th>253</th>\n      <td>Mawa Bati</td>\n      <td>Milk powder, dry fruits, arrowroot powder, all...</td>\n      <td>vegetarian</td>\n      <td>20</td>\n      <td>45</td>\n      <td>sweet</td>\n      <td>dessert</td>\n      <td>Madhya Pradesh</td>\n      <td>Central</td>\n    </tr>\n    <tr>\n      <th>254</th>\n      <td>Pinaca</td>\n      <td>Brown rice, fennel seeds, grated coconut, blac...</td>\n      <td>vegetarian</td>\n      <td>-1</td>\n      <td>-1</td>\n      <td>sweet</td>\n      <td>dessert</td>\n      <td>Goa</td>\n      <td>West</td>\n    </tr>\n  </tbody>\n</table>\n<p>255 rows × 9 columns</p>\n</div>"
          },
          "metadata": {}
        }
      ],
      "execution_count": 25
    },
    {
      "cell_type": "code",
      "source": "df.loc[210]",
      "metadata": {
        "trusted": true
      },
      "outputs": [
        {
          "execution_count": 26,
          "output_type": "execute_result",
          "data": {
            "text/plain": "name                                        Veg Kolhapuri\ningredients       Gobi, potato, beans, khus khus, coconut\ndiet                                           vegetarian\nprep_time                                              20\ncook_time                                              30\nflavor_profile                                      spicy\ncourse                                        main course\nstate                                         Maharashtra\nregion                                               West\nName: 210, dtype: object"
          },
          "metadata": {}
        }
      ],
      "execution_count": 26
    },
    {
      "cell_type": "code",
      "source": "type(df.at[0, 'prep_time'])",
      "metadata": {
        "trusted": true
      },
      "outputs": [
        {
          "execution_count": 27,
          "output_type": "execute_result",
          "data": {
            "text/plain": "numpy.int64"
          },
          "metadata": {}
        }
      ],
      "execution_count": 27
    },
    {
      "cell_type": "code",
      "source": "df.prep_time.first_valid_index()",
      "metadata": {
        "trusted": true
      },
      "outputs": [
        {
          "execution_count": 28,
          "output_type": "execute_result",
          "data": {
            "text/plain": "0"
          },
          "metadata": {}
        }
      ],
      "execution_count": 28
    },
    {
      "cell_type": "code",
      "source": "df.loc[108:113]",
      "metadata": {
        "trusted": true
      },
      "outputs": [
        {
          "execution_count": 29,
          "output_type": "execute_result",
          "data": {
            "text/plain": "                    name                                        ingredients  \\\n108  Paneer tikka masala  Paneer, greek yogurt, tandoori masala, cream, ...   \n109            Pani puri      Kala chana, mashed potato, boondi, sev, lemon   \n110             Panjeeri  Whole wheat flour, musk melon seeds, poppy see...   \n111                Papad       Urad dal, sev, lemon juice, chopped tomatoes   \n112              Paratha             Wheat flour, butter, potato, coriander   \n113               Pattor  Arbi ke patte, sesame seeds, gur, bengal gram ...   \n\n           diet  prep_time  cook_time flavor_profile       course  \\\n108  vegetarian         20         40          spicy  main course   \n109  vegetarian         15          2          spicy        snack   \n110  vegetarian         10         25          sweet      dessert   \n111  vegetarian          5          5          spicy        snack   \n112  vegetarian         15         45          spicy  main course   \n113  vegetarian         10         30          spicy  main course   \n\n             state region  \n108         Punjab  North  \n109             -1     -1  \n110  Uttar Pradesh    NaN  \n111             -1     -1  \n112         Punjab  North  \n113      Rajasthan   West  ",
            "text/html": "<div>\n<style scoped>\n    .dataframe tbody tr th:only-of-type {\n        vertical-align: middle;\n    }\n\n    .dataframe tbody tr th {\n        vertical-align: top;\n    }\n\n    .dataframe thead th {\n        text-align: right;\n    }\n</style>\n<table border=\"1\" class=\"dataframe\">\n  <thead>\n    <tr style=\"text-align: right;\">\n      <th></th>\n      <th>name</th>\n      <th>ingredients</th>\n      <th>diet</th>\n      <th>prep_time</th>\n      <th>cook_time</th>\n      <th>flavor_profile</th>\n      <th>course</th>\n      <th>state</th>\n      <th>region</th>\n    </tr>\n  </thead>\n  <tbody>\n    <tr>\n      <th>108</th>\n      <td>Paneer tikka masala</td>\n      <td>Paneer, greek yogurt, tandoori masala, cream, ...</td>\n      <td>vegetarian</td>\n      <td>20</td>\n      <td>40</td>\n      <td>spicy</td>\n      <td>main course</td>\n      <td>Punjab</td>\n      <td>North</td>\n    </tr>\n    <tr>\n      <th>109</th>\n      <td>Pani puri</td>\n      <td>Kala chana, mashed potato, boondi, sev, lemon</td>\n      <td>vegetarian</td>\n      <td>15</td>\n      <td>2</td>\n      <td>spicy</td>\n      <td>snack</td>\n      <td>-1</td>\n      <td>-1</td>\n    </tr>\n    <tr>\n      <th>110</th>\n      <td>Panjeeri</td>\n      <td>Whole wheat flour, musk melon seeds, poppy see...</td>\n      <td>vegetarian</td>\n      <td>10</td>\n      <td>25</td>\n      <td>sweet</td>\n      <td>dessert</td>\n      <td>Uttar Pradesh</td>\n      <td>NaN</td>\n    </tr>\n    <tr>\n      <th>111</th>\n      <td>Papad</td>\n      <td>Urad dal, sev, lemon juice, chopped tomatoes</td>\n      <td>vegetarian</td>\n      <td>5</td>\n      <td>5</td>\n      <td>spicy</td>\n      <td>snack</td>\n      <td>-1</td>\n      <td>-1</td>\n    </tr>\n    <tr>\n      <th>112</th>\n      <td>Paratha</td>\n      <td>Wheat flour, butter, potato, coriander</td>\n      <td>vegetarian</td>\n      <td>15</td>\n      <td>45</td>\n      <td>spicy</td>\n      <td>main course</td>\n      <td>Punjab</td>\n      <td>North</td>\n    </tr>\n    <tr>\n      <th>113</th>\n      <td>Pattor</td>\n      <td>Arbi ke patte, sesame seeds, gur, bengal gram ...</td>\n      <td>vegetarian</td>\n      <td>10</td>\n      <td>30</td>\n      <td>spicy</td>\n      <td>main course</td>\n      <td>Rajasthan</td>\n      <td>West</td>\n    </tr>\n  </tbody>\n</table>\n</div>"
          },
          "metadata": {}
        }
      ],
      "execution_count": 29
    },
    {
      "cell_type": "code",
      "source": "df.sample(10)",
      "metadata": {
        "trusted": true
      },
      "outputs": [
        {
          "execution_count": 30,
          "output_type": "execute_result",
          "data": {
            "text/plain": "                 name                                        ingredients  \\\n51   Qubani ka meetha                              Apricots, sugar syrup   \n95              Kofta    Paneer, potato, cream, corn flour, garam masala   \n42            Gavvalu            Rice flour, sugar, salt, ghee, semolina   \n104              Naan           Whole wheat flour, honey, butter, garlic   \n58           Doodhpak                      Milk, rice, sugar, dry fruits   \n165              Amti  Kala masala, arhar dal, curry leaves, mustard ...   \n94            Khichdi  Moong dal, green peas, ginger, tomato, green c...   \n220        Cheera Doi                                  Rice, mango, curd   \n234        Hando Guri                                   Jaggery, raisins   \n198           Muthiya  Bottle gourd, whole wheat flour, rava, sesame ...   \n\n           diet  prep_time  cook_time flavor_profile       course  \\\n51   vegetarian         10         20          sweet      dessert   \n95   vegetarian         20         40          spicy  main course   \n42   vegetarian         10         30          sweet      dessert   \n104  vegetarian         60         30             -1  main course   \n58   vegetarian         10         60          sweet      dessert   \n165  vegetarian         10         45          spicy  main course   \n94   vegetarian         40         20          spicy  main course   \n220  vegetarian         -1         -1          sweet      dessert   \n234  vegetarian         -1         -1          sweet      dessert   \n198  vegetarian         15         30         bitter        snack   \n\n              state      region  \n51        Telangana       South  \n95    Uttar Pradesh       North  \n42   Andhra Pradesh       South  \n104          Punjab       North  \n58          Gujarat        West  \n165     Maharashtra        West  \n94               -1          -1  \n220     West Bengal        East  \n234           Assam  North East  \n198         Gujarat        West  ",
            "text/html": "<div>\n<style scoped>\n    .dataframe tbody tr th:only-of-type {\n        vertical-align: middle;\n    }\n\n    .dataframe tbody tr th {\n        vertical-align: top;\n    }\n\n    .dataframe thead th {\n        text-align: right;\n    }\n</style>\n<table border=\"1\" class=\"dataframe\">\n  <thead>\n    <tr style=\"text-align: right;\">\n      <th></th>\n      <th>name</th>\n      <th>ingredients</th>\n      <th>diet</th>\n      <th>prep_time</th>\n      <th>cook_time</th>\n      <th>flavor_profile</th>\n      <th>course</th>\n      <th>state</th>\n      <th>region</th>\n    </tr>\n  </thead>\n  <tbody>\n    <tr>\n      <th>51</th>\n      <td>Qubani ka meetha</td>\n      <td>Apricots, sugar syrup</td>\n      <td>vegetarian</td>\n      <td>10</td>\n      <td>20</td>\n      <td>sweet</td>\n      <td>dessert</td>\n      <td>Telangana</td>\n      <td>South</td>\n    </tr>\n    <tr>\n      <th>95</th>\n      <td>Kofta</td>\n      <td>Paneer, potato, cream, corn flour, garam masala</td>\n      <td>vegetarian</td>\n      <td>20</td>\n      <td>40</td>\n      <td>spicy</td>\n      <td>main course</td>\n      <td>Uttar Pradesh</td>\n      <td>North</td>\n    </tr>\n    <tr>\n      <th>42</th>\n      <td>Gavvalu</td>\n      <td>Rice flour, sugar, salt, ghee, semolina</td>\n      <td>vegetarian</td>\n      <td>10</td>\n      <td>30</td>\n      <td>sweet</td>\n      <td>dessert</td>\n      <td>Andhra Pradesh</td>\n      <td>South</td>\n    </tr>\n    <tr>\n      <th>104</th>\n      <td>Naan</td>\n      <td>Whole wheat flour, honey, butter, garlic</td>\n      <td>vegetarian</td>\n      <td>60</td>\n      <td>30</td>\n      <td>-1</td>\n      <td>main course</td>\n      <td>Punjab</td>\n      <td>North</td>\n    </tr>\n    <tr>\n      <th>58</th>\n      <td>Doodhpak</td>\n      <td>Milk, rice, sugar, dry fruits</td>\n      <td>vegetarian</td>\n      <td>10</td>\n      <td>60</td>\n      <td>sweet</td>\n      <td>dessert</td>\n      <td>Gujarat</td>\n      <td>West</td>\n    </tr>\n    <tr>\n      <th>165</th>\n      <td>Amti</td>\n      <td>Kala masala, arhar dal, curry leaves, mustard ...</td>\n      <td>vegetarian</td>\n      <td>10</td>\n      <td>45</td>\n      <td>spicy</td>\n      <td>main course</td>\n      <td>Maharashtra</td>\n      <td>West</td>\n    </tr>\n    <tr>\n      <th>94</th>\n      <td>Khichdi</td>\n      <td>Moong dal, green peas, ginger, tomato, green c...</td>\n      <td>vegetarian</td>\n      <td>40</td>\n      <td>20</td>\n      <td>spicy</td>\n      <td>main course</td>\n      <td>-1</td>\n      <td>-1</td>\n    </tr>\n    <tr>\n      <th>220</th>\n      <td>Cheera Doi</td>\n      <td>Rice, mango, curd</td>\n      <td>vegetarian</td>\n      <td>-1</td>\n      <td>-1</td>\n      <td>sweet</td>\n      <td>dessert</td>\n      <td>West Bengal</td>\n      <td>East</td>\n    </tr>\n    <tr>\n      <th>234</th>\n      <td>Hando Guri</td>\n      <td>Jaggery, raisins</td>\n      <td>vegetarian</td>\n      <td>-1</td>\n      <td>-1</td>\n      <td>sweet</td>\n      <td>dessert</td>\n      <td>Assam</td>\n      <td>North East</td>\n    </tr>\n    <tr>\n      <th>198</th>\n      <td>Muthiya</td>\n      <td>Bottle gourd, whole wheat flour, rava, sesame ...</td>\n      <td>vegetarian</td>\n      <td>15</td>\n      <td>30</td>\n      <td>bitter</td>\n      <td>snack</td>\n      <td>Gujarat</td>\n      <td>West</td>\n    </tr>\n  </tbody>\n</table>\n</div>"
          },
          "metadata": {}
        }
      ],
      "execution_count": 30
    },
    {
      "cell_type": "code",
      "source": "total_cook = df.cook_time.sum()\ntotal_prep = df.prep_time.sum()",
      "metadata": {
        "trusted": true
      },
      "outputs": [],
      "execution_count": 31
    },
    {
      "cell_type": "code",
      "source": "print('The number of cook is {} and the number of prep is {}.'.format(int(total_cook), int(total_prep)))",
      "metadata": {
        "trusted": true
      },
      "outputs": [
        {
          "name": "stdout",
          "text": "The number of cook is 8805 and the number of prep is 7932.\n",
          "output_type": "stream"
        }
      ],
      "execution_count": 32
    },
    {
      "cell_type": "code",
      "source": "high = df.cook_time >20",
      "metadata": {
        "trusted": true
      },
      "outputs": [],
      "execution_count": 33
    },
    {
      "cell_type": "code",
      "source": "high",
      "metadata": {
        "trusted": true
      },
      "outputs": [
        {
          "execution_count": 34,
          "output_type": "execute_result",
          "data": {
            "text/plain": "0       True\n1       True\n2       True\n3       True\n4       True\n       ...  \n250     True\n251     True\n252    False\n253     True\n254    False\nName: cook_time, Length: 255, dtype: bool"
          },
          "metadata": {}
        }
      ],
      "execution_count": 34
    },
    {
      "cell_type": "code",
      "source": "df[high]",
      "metadata": {
        "trusted": true
      },
      "outputs": [
        {
          "execution_count": 35,
          "output_type": "execute_result",
          "data": {
            "text/plain": "                   name                                        ingredients  \\\n0            Balu shahi                    Maida flour, yogurt, oil, sugar   \n1                Boondi                            Gram flour, ghee, sugar   \n2        Gajar ka halwa       Carrots, milk, sugar, ghee, cashews, raisins   \n3                Ghevar  Flour, ghee, kewra, milk, clarified butter, su...   \n4           Gulab jamun  Milk powder, plain flour, baking powder, ghee,...   \n..                  ...                                                ...   \n243  Mishti Chholar Dal  Chana dal, fresh coconut, ginger, cinnamon, ra...   \n247   Prawn malai curry      Coconut milk, prawns, garlic, turmeric, sugar   \n250           Til Pitha            Glutinous rice, black sesame seeds, gur   \n251             Bebinca  Coconut milk, egg yolks, clarified butter, all...   \n253           Mawa Bati  Milk powder, dry fruits, arrowroot powder, all...   \n\n               diet  prep_time  cook_time flavor_profile       course  \\\n0        vegetarian         45         25          sweet      dessert   \n1        vegetarian         80         30          sweet      dessert   \n2        vegetarian         15         60          sweet      dessert   \n3        vegetarian         15         30          sweet      dessert   \n4        vegetarian         15         40          sweet      dessert   \n..              ...        ...        ...            ...          ...   \n243      vegetarian         10         30          sweet  main course   \n247  non vegetarian         15         50          spicy  main course   \n250      vegetarian          5         30          sweet      dessert   \n251      vegetarian         20         60          sweet      dessert   \n253      vegetarian         20         45          sweet      dessert   \n\n              state      region  \n0       West Bengal        East  \n1         Rajasthan        West  \n2            Punjab       North  \n3         Rajasthan        West  \n4       West Bengal        East  \n..              ...         ...  \n243     West Bengal        East  \n247     West Bengal        East  \n250           Assam  North East  \n251             Goa        West  \n253  Madhya Pradesh     Central  \n\n[168 rows x 9 columns]",
            "text/html": "<div>\n<style scoped>\n    .dataframe tbody tr th:only-of-type {\n        vertical-align: middle;\n    }\n\n    .dataframe tbody tr th {\n        vertical-align: top;\n    }\n\n    .dataframe thead th {\n        text-align: right;\n    }\n</style>\n<table border=\"1\" class=\"dataframe\">\n  <thead>\n    <tr style=\"text-align: right;\">\n      <th></th>\n      <th>name</th>\n      <th>ingredients</th>\n      <th>diet</th>\n      <th>prep_time</th>\n      <th>cook_time</th>\n      <th>flavor_profile</th>\n      <th>course</th>\n      <th>state</th>\n      <th>region</th>\n    </tr>\n  </thead>\n  <tbody>\n    <tr>\n      <th>0</th>\n      <td>Balu shahi</td>\n      <td>Maida flour, yogurt, oil, sugar</td>\n      <td>vegetarian</td>\n      <td>45</td>\n      <td>25</td>\n      <td>sweet</td>\n      <td>dessert</td>\n      <td>West Bengal</td>\n      <td>East</td>\n    </tr>\n    <tr>\n      <th>1</th>\n      <td>Boondi</td>\n      <td>Gram flour, ghee, sugar</td>\n      <td>vegetarian</td>\n      <td>80</td>\n      <td>30</td>\n      <td>sweet</td>\n      <td>dessert</td>\n      <td>Rajasthan</td>\n      <td>West</td>\n    </tr>\n    <tr>\n      <th>2</th>\n      <td>Gajar ka halwa</td>\n      <td>Carrots, milk, sugar, ghee, cashews, raisins</td>\n      <td>vegetarian</td>\n      <td>15</td>\n      <td>60</td>\n      <td>sweet</td>\n      <td>dessert</td>\n      <td>Punjab</td>\n      <td>North</td>\n    </tr>\n    <tr>\n      <th>3</th>\n      <td>Ghevar</td>\n      <td>Flour, ghee, kewra, milk, clarified butter, su...</td>\n      <td>vegetarian</td>\n      <td>15</td>\n      <td>30</td>\n      <td>sweet</td>\n      <td>dessert</td>\n      <td>Rajasthan</td>\n      <td>West</td>\n    </tr>\n    <tr>\n      <th>4</th>\n      <td>Gulab jamun</td>\n      <td>Milk powder, plain flour, baking powder, ghee,...</td>\n      <td>vegetarian</td>\n      <td>15</td>\n      <td>40</td>\n      <td>sweet</td>\n      <td>dessert</td>\n      <td>West Bengal</td>\n      <td>East</td>\n    </tr>\n    <tr>\n      <th>...</th>\n      <td>...</td>\n      <td>...</td>\n      <td>...</td>\n      <td>...</td>\n      <td>...</td>\n      <td>...</td>\n      <td>...</td>\n      <td>...</td>\n      <td>...</td>\n    </tr>\n    <tr>\n      <th>243</th>\n      <td>Mishti Chholar Dal</td>\n      <td>Chana dal, fresh coconut, ginger, cinnamon, ra...</td>\n      <td>vegetarian</td>\n      <td>10</td>\n      <td>30</td>\n      <td>sweet</td>\n      <td>main course</td>\n      <td>West Bengal</td>\n      <td>East</td>\n    </tr>\n    <tr>\n      <th>247</th>\n      <td>Prawn malai curry</td>\n      <td>Coconut milk, prawns, garlic, turmeric, sugar</td>\n      <td>non vegetarian</td>\n      <td>15</td>\n      <td>50</td>\n      <td>spicy</td>\n      <td>main course</td>\n      <td>West Bengal</td>\n      <td>East</td>\n    </tr>\n    <tr>\n      <th>250</th>\n      <td>Til Pitha</td>\n      <td>Glutinous rice, black sesame seeds, gur</td>\n      <td>vegetarian</td>\n      <td>5</td>\n      <td>30</td>\n      <td>sweet</td>\n      <td>dessert</td>\n      <td>Assam</td>\n      <td>North East</td>\n    </tr>\n    <tr>\n      <th>251</th>\n      <td>Bebinca</td>\n      <td>Coconut milk, egg yolks, clarified butter, all...</td>\n      <td>vegetarian</td>\n      <td>20</td>\n      <td>60</td>\n      <td>sweet</td>\n      <td>dessert</td>\n      <td>Goa</td>\n      <td>West</td>\n    </tr>\n    <tr>\n      <th>253</th>\n      <td>Mawa Bati</td>\n      <td>Milk powder, dry fruits, arrowroot powder, all...</td>\n      <td>vegetarian</td>\n      <td>20</td>\n      <td>45</td>\n      <td>sweet</td>\n      <td>dessert</td>\n      <td>Madhya Pradesh</td>\n      <td>Central</td>\n    </tr>\n  </tbody>\n</table>\n<p>168 rows × 9 columns</p>\n</div>"
          },
          "metadata": {}
        }
      ],
      "execution_count": 35
    },
    {
      "cell_type": "code",
      "source": "high_df = df[df.cook_time >20]",
      "metadata": {
        "trusted": true
      },
      "outputs": [],
      "execution_count": 36
    },
    {
      "cell_type": "code",
      "source": "high_df",
      "metadata": {
        "trusted": true
      },
      "outputs": [
        {
          "execution_count": 37,
          "output_type": "execute_result",
          "data": {
            "text/plain": "                   name                                        ingredients  \\\n0            Balu shahi                    Maida flour, yogurt, oil, sugar   \n1                Boondi                            Gram flour, ghee, sugar   \n2        Gajar ka halwa       Carrots, milk, sugar, ghee, cashews, raisins   \n3                Ghevar  Flour, ghee, kewra, milk, clarified butter, su...   \n4           Gulab jamun  Milk powder, plain flour, baking powder, ghee,...   \n..                  ...                                                ...   \n243  Mishti Chholar Dal  Chana dal, fresh coconut, ginger, cinnamon, ra...   \n247   Prawn malai curry      Coconut milk, prawns, garlic, turmeric, sugar   \n250           Til Pitha            Glutinous rice, black sesame seeds, gur   \n251             Bebinca  Coconut milk, egg yolks, clarified butter, all...   \n253           Mawa Bati  Milk powder, dry fruits, arrowroot powder, all...   \n\n               diet  prep_time  cook_time flavor_profile       course  \\\n0        vegetarian         45         25          sweet      dessert   \n1        vegetarian         80         30          sweet      dessert   \n2        vegetarian         15         60          sweet      dessert   \n3        vegetarian         15         30          sweet      dessert   \n4        vegetarian         15         40          sweet      dessert   \n..              ...        ...        ...            ...          ...   \n243      vegetarian         10         30          sweet  main course   \n247  non vegetarian         15         50          spicy  main course   \n250      vegetarian          5         30          sweet      dessert   \n251      vegetarian         20         60          sweet      dessert   \n253      vegetarian         20         45          sweet      dessert   \n\n              state      region  \n0       West Bengal        East  \n1         Rajasthan        West  \n2            Punjab       North  \n3         Rajasthan        West  \n4       West Bengal        East  \n..              ...         ...  \n243     West Bengal        East  \n247     West Bengal        East  \n250           Assam  North East  \n251             Goa        West  \n253  Madhya Pradesh     Central  \n\n[168 rows x 9 columns]",
            "text/html": "<div>\n<style scoped>\n    .dataframe tbody tr th:only-of-type {\n        vertical-align: middle;\n    }\n\n    .dataframe tbody tr th {\n        vertical-align: top;\n    }\n\n    .dataframe thead th {\n        text-align: right;\n    }\n</style>\n<table border=\"1\" class=\"dataframe\">\n  <thead>\n    <tr style=\"text-align: right;\">\n      <th></th>\n      <th>name</th>\n      <th>ingredients</th>\n      <th>diet</th>\n      <th>prep_time</th>\n      <th>cook_time</th>\n      <th>flavor_profile</th>\n      <th>course</th>\n      <th>state</th>\n      <th>region</th>\n    </tr>\n  </thead>\n  <tbody>\n    <tr>\n      <th>0</th>\n      <td>Balu shahi</td>\n      <td>Maida flour, yogurt, oil, sugar</td>\n      <td>vegetarian</td>\n      <td>45</td>\n      <td>25</td>\n      <td>sweet</td>\n      <td>dessert</td>\n      <td>West Bengal</td>\n      <td>East</td>\n    </tr>\n    <tr>\n      <th>1</th>\n      <td>Boondi</td>\n      <td>Gram flour, ghee, sugar</td>\n      <td>vegetarian</td>\n      <td>80</td>\n      <td>30</td>\n      <td>sweet</td>\n      <td>dessert</td>\n      <td>Rajasthan</td>\n      <td>West</td>\n    </tr>\n    <tr>\n      <th>2</th>\n      <td>Gajar ka halwa</td>\n      <td>Carrots, milk, sugar, ghee, cashews, raisins</td>\n      <td>vegetarian</td>\n      <td>15</td>\n      <td>60</td>\n      <td>sweet</td>\n      <td>dessert</td>\n      <td>Punjab</td>\n      <td>North</td>\n    </tr>\n    <tr>\n      <th>3</th>\n      <td>Ghevar</td>\n      <td>Flour, ghee, kewra, milk, clarified butter, su...</td>\n      <td>vegetarian</td>\n      <td>15</td>\n      <td>30</td>\n      <td>sweet</td>\n      <td>dessert</td>\n      <td>Rajasthan</td>\n      <td>West</td>\n    </tr>\n    <tr>\n      <th>4</th>\n      <td>Gulab jamun</td>\n      <td>Milk powder, plain flour, baking powder, ghee,...</td>\n      <td>vegetarian</td>\n      <td>15</td>\n      <td>40</td>\n      <td>sweet</td>\n      <td>dessert</td>\n      <td>West Bengal</td>\n      <td>East</td>\n    </tr>\n    <tr>\n      <th>...</th>\n      <td>...</td>\n      <td>...</td>\n      <td>...</td>\n      <td>...</td>\n      <td>...</td>\n      <td>...</td>\n      <td>...</td>\n      <td>...</td>\n      <td>...</td>\n    </tr>\n    <tr>\n      <th>243</th>\n      <td>Mishti Chholar Dal</td>\n      <td>Chana dal, fresh coconut, ginger, cinnamon, ra...</td>\n      <td>vegetarian</td>\n      <td>10</td>\n      <td>30</td>\n      <td>sweet</td>\n      <td>main course</td>\n      <td>West Bengal</td>\n      <td>East</td>\n    </tr>\n    <tr>\n      <th>247</th>\n      <td>Prawn malai curry</td>\n      <td>Coconut milk, prawns, garlic, turmeric, sugar</td>\n      <td>non vegetarian</td>\n      <td>15</td>\n      <td>50</td>\n      <td>spicy</td>\n      <td>main course</td>\n      <td>West Bengal</td>\n      <td>East</td>\n    </tr>\n    <tr>\n      <th>250</th>\n      <td>Til Pitha</td>\n      <td>Glutinous rice, black sesame seeds, gur</td>\n      <td>vegetarian</td>\n      <td>5</td>\n      <td>30</td>\n      <td>sweet</td>\n      <td>dessert</td>\n      <td>Assam</td>\n      <td>North East</td>\n    </tr>\n    <tr>\n      <th>251</th>\n      <td>Bebinca</td>\n      <td>Coconut milk, egg yolks, clarified butter, all...</td>\n      <td>vegetarian</td>\n      <td>20</td>\n      <td>60</td>\n      <td>sweet</td>\n      <td>dessert</td>\n      <td>Goa</td>\n      <td>West</td>\n    </tr>\n    <tr>\n      <th>253</th>\n      <td>Mawa Bati</td>\n      <td>Milk powder, dry fruits, arrowroot powder, all...</td>\n      <td>vegetarian</td>\n      <td>20</td>\n      <td>45</td>\n      <td>sweet</td>\n      <td>dessert</td>\n      <td>Madhya Pradesh</td>\n      <td>Central</td>\n    </tr>\n  </tbody>\n</table>\n<p>168 rows × 9 columns</p>\n</div>"
          },
          "metadata": {}
        }
      ],
      "execution_count": 37
    },
    {
      "cell_type": "code",
      "source": "from IPython.display import display\nwith pd.option_context('display.max_rows', 100):\n    display(df[df.cook_time > 20])",
      "metadata": {
        "trusted": true
      },
      "outputs": [
        {
          "output_type": "display_data",
          "data": {
            "text/plain": "                   name                                        ingredients  \\\n0            Balu shahi                    Maida flour, yogurt, oil, sugar   \n1                Boondi                            Gram flour, ghee, sugar   \n2        Gajar ka halwa       Carrots, milk, sugar, ghee, cashews, raisins   \n3                Ghevar  Flour, ghee, kewra, milk, clarified butter, su...   \n4           Gulab jamun  Milk powder, plain flour, baking powder, ghee,...   \n..                  ...                                                ...   \n243  Mishti Chholar Dal  Chana dal, fresh coconut, ginger, cinnamon, ra...   \n247   Prawn malai curry      Coconut milk, prawns, garlic, turmeric, sugar   \n250           Til Pitha            Glutinous rice, black sesame seeds, gur   \n251             Bebinca  Coconut milk, egg yolks, clarified butter, all...   \n253           Mawa Bati  Milk powder, dry fruits, arrowroot powder, all...   \n\n               diet  prep_time  cook_time flavor_profile       course  \\\n0        vegetarian         45         25          sweet      dessert   \n1        vegetarian         80         30          sweet      dessert   \n2        vegetarian         15         60          sweet      dessert   \n3        vegetarian         15         30          sweet      dessert   \n4        vegetarian         15         40          sweet      dessert   \n..              ...        ...        ...            ...          ...   \n243      vegetarian         10         30          sweet  main course   \n247  non vegetarian         15         50          spicy  main course   \n250      vegetarian          5         30          sweet      dessert   \n251      vegetarian         20         60          sweet      dessert   \n253      vegetarian         20         45          sweet      dessert   \n\n              state      region  \n0       West Bengal        East  \n1         Rajasthan        West  \n2            Punjab       North  \n3         Rajasthan        West  \n4       West Bengal        East  \n..              ...         ...  \n243     West Bengal        East  \n247     West Bengal        East  \n250           Assam  North East  \n251             Goa        West  \n253  Madhya Pradesh     Central  \n\n[168 rows x 9 columns]",
            "text/html": "<div>\n<style scoped>\n    .dataframe tbody tr th:only-of-type {\n        vertical-align: middle;\n    }\n\n    .dataframe tbody tr th {\n        vertical-align: top;\n    }\n\n    .dataframe thead th {\n        text-align: right;\n    }\n</style>\n<table border=\"1\" class=\"dataframe\">\n  <thead>\n    <tr style=\"text-align: right;\">\n      <th></th>\n      <th>name</th>\n      <th>ingredients</th>\n      <th>diet</th>\n      <th>prep_time</th>\n      <th>cook_time</th>\n      <th>flavor_profile</th>\n      <th>course</th>\n      <th>state</th>\n      <th>region</th>\n    </tr>\n  </thead>\n  <tbody>\n    <tr>\n      <th>0</th>\n      <td>Balu shahi</td>\n      <td>Maida flour, yogurt, oil, sugar</td>\n      <td>vegetarian</td>\n      <td>45</td>\n      <td>25</td>\n      <td>sweet</td>\n      <td>dessert</td>\n      <td>West Bengal</td>\n      <td>East</td>\n    </tr>\n    <tr>\n      <th>1</th>\n      <td>Boondi</td>\n      <td>Gram flour, ghee, sugar</td>\n      <td>vegetarian</td>\n      <td>80</td>\n      <td>30</td>\n      <td>sweet</td>\n      <td>dessert</td>\n      <td>Rajasthan</td>\n      <td>West</td>\n    </tr>\n    <tr>\n      <th>2</th>\n      <td>Gajar ka halwa</td>\n      <td>Carrots, milk, sugar, ghee, cashews, raisins</td>\n      <td>vegetarian</td>\n      <td>15</td>\n      <td>60</td>\n      <td>sweet</td>\n      <td>dessert</td>\n      <td>Punjab</td>\n      <td>North</td>\n    </tr>\n    <tr>\n      <th>3</th>\n      <td>Ghevar</td>\n      <td>Flour, ghee, kewra, milk, clarified butter, su...</td>\n      <td>vegetarian</td>\n      <td>15</td>\n      <td>30</td>\n      <td>sweet</td>\n      <td>dessert</td>\n      <td>Rajasthan</td>\n      <td>West</td>\n    </tr>\n    <tr>\n      <th>4</th>\n      <td>Gulab jamun</td>\n      <td>Milk powder, plain flour, baking powder, ghee,...</td>\n      <td>vegetarian</td>\n      <td>15</td>\n      <td>40</td>\n      <td>sweet</td>\n      <td>dessert</td>\n      <td>West Bengal</td>\n      <td>East</td>\n    </tr>\n    <tr>\n      <th>...</th>\n      <td>...</td>\n      <td>...</td>\n      <td>...</td>\n      <td>...</td>\n      <td>...</td>\n      <td>...</td>\n      <td>...</td>\n      <td>...</td>\n      <td>...</td>\n    </tr>\n    <tr>\n      <th>243</th>\n      <td>Mishti Chholar Dal</td>\n      <td>Chana dal, fresh coconut, ginger, cinnamon, ra...</td>\n      <td>vegetarian</td>\n      <td>10</td>\n      <td>30</td>\n      <td>sweet</td>\n      <td>main course</td>\n      <td>West Bengal</td>\n      <td>East</td>\n    </tr>\n    <tr>\n      <th>247</th>\n      <td>Prawn malai curry</td>\n      <td>Coconut milk, prawns, garlic, turmeric, sugar</td>\n      <td>non vegetarian</td>\n      <td>15</td>\n      <td>50</td>\n      <td>spicy</td>\n      <td>main course</td>\n      <td>West Bengal</td>\n      <td>East</td>\n    </tr>\n    <tr>\n      <th>250</th>\n      <td>Til Pitha</td>\n      <td>Glutinous rice, black sesame seeds, gur</td>\n      <td>vegetarian</td>\n      <td>5</td>\n      <td>30</td>\n      <td>sweet</td>\n      <td>dessert</td>\n      <td>Assam</td>\n      <td>North East</td>\n    </tr>\n    <tr>\n      <th>251</th>\n      <td>Bebinca</td>\n      <td>Coconut milk, egg yolks, clarified butter, all...</td>\n      <td>vegetarian</td>\n      <td>20</td>\n      <td>60</td>\n      <td>sweet</td>\n      <td>dessert</td>\n      <td>Goa</td>\n      <td>West</td>\n    </tr>\n    <tr>\n      <th>253</th>\n      <td>Mawa Bati</td>\n      <td>Milk powder, dry fruits, arrowroot powder, all...</td>\n      <td>vegetarian</td>\n      <td>20</td>\n      <td>45</td>\n      <td>sweet</td>\n      <td>dessert</td>\n      <td>Madhya Pradesh</td>\n      <td>Central</td>\n    </tr>\n  </tbody>\n</table>\n<p>168 rows × 9 columns</p>\n</div>"
          },
          "metadata": {}
        }
      ],
      "execution_count": 38
    },
    {
      "cell_type": "code",
      "source": "df.sort_values('cook_time', ascending=False).head(10)",
      "metadata": {
        "trusted": true
      },
      "outputs": [
        {
          "execution_count": 40,
          "output_type": "execute_result",
          "data": {
            "text/plain": "                  name                                        ingredients  \\\n62           Shrikhand                     Curd, sugar, saffron, cardamom   \n27             Malapua         Yoghurt, refined flour, ghee, fennel seeds   \n75             Biryani  Chicken thighs, basmati rice, star anise, swee...   \n114        Pindi chana   Fennel, tea bags, tomato, kasuri methi, cinnamon   \n34            Rasgulla                            Chhena, sugar, cardamom   \n115       Rajma chaval  Red kidney beans, garam masala powder, ginger,...   \n83   Daal baati churma  Moong dal, masoor dal, chana dal, wheat flour,...   \n128               Dosa  Chana dal, urad dal, whole urad dal, blend ric...   \n130               Idli  Split urad dal, urad dal, idli rice, thick poh...   \n142       Kuzhakkattai      Sesame oil, raw rice, jaggery, grated coconut   \n\n               diet  prep_time  cook_time flavor_profile       course  \\\n62       vegetarian         10        720          sweet      dessert   \n27       vegetarian         10        120          sweet      dessert   \n75   non vegetarian         30        120          spicy  main course   \n114      vegetarian        500        120          spicy  main course   \n34       vegetarian         10         90          sweet      dessert   \n115      vegetarian         15         90          spicy  main course   \n83       vegetarian         10         90          spicy  main course   \n128      vegetarian        360         90          spicy        snack   \n130      vegetarian        360         90          spicy        snack   \n142      vegetarian         10         90          spicy  main course   \n\n           state region  \n62   Maharashtra   West  \n27         Bihar  North  \n75     Telangana  South  \n114       Punjab  North  \n34   West Bengal   East  \n115           -1  North  \n83     Rajasthan   West  \n128           -1  South  \n130           -1  South  \n142   Tamil Nadu  South  ",
            "text/html": "<div>\n<style scoped>\n    .dataframe tbody tr th:only-of-type {\n        vertical-align: middle;\n    }\n\n    .dataframe tbody tr th {\n        vertical-align: top;\n    }\n\n    .dataframe thead th {\n        text-align: right;\n    }\n</style>\n<table border=\"1\" class=\"dataframe\">\n  <thead>\n    <tr style=\"text-align: right;\">\n      <th></th>\n      <th>name</th>\n      <th>ingredients</th>\n      <th>diet</th>\n      <th>prep_time</th>\n      <th>cook_time</th>\n      <th>flavor_profile</th>\n      <th>course</th>\n      <th>state</th>\n      <th>region</th>\n    </tr>\n  </thead>\n  <tbody>\n    <tr>\n      <th>62</th>\n      <td>Shrikhand</td>\n      <td>Curd, sugar, saffron, cardamom</td>\n      <td>vegetarian</td>\n      <td>10</td>\n      <td>720</td>\n      <td>sweet</td>\n      <td>dessert</td>\n      <td>Maharashtra</td>\n      <td>West</td>\n    </tr>\n    <tr>\n      <th>27</th>\n      <td>Malapua</td>\n      <td>Yoghurt, refined flour, ghee, fennel seeds</td>\n      <td>vegetarian</td>\n      <td>10</td>\n      <td>120</td>\n      <td>sweet</td>\n      <td>dessert</td>\n      <td>Bihar</td>\n      <td>North</td>\n    </tr>\n    <tr>\n      <th>75</th>\n      <td>Biryani</td>\n      <td>Chicken thighs, basmati rice, star anise, swee...</td>\n      <td>non vegetarian</td>\n      <td>30</td>\n      <td>120</td>\n      <td>spicy</td>\n      <td>main course</td>\n      <td>Telangana</td>\n      <td>South</td>\n    </tr>\n    <tr>\n      <th>114</th>\n      <td>Pindi chana</td>\n      <td>Fennel, tea bags, tomato, kasuri methi, cinnamon</td>\n      <td>vegetarian</td>\n      <td>500</td>\n      <td>120</td>\n      <td>spicy</td>\n      <td>main course</td>\n      <td>Punjab</td>\n      <td>North</td>\n    </tr>\n    <tr>\n      <th>34</th>\n      <td>Rasgulla</td>\n      <td>Chhena, sugar, cardamom</td>\n      <td>vegetarian</td>\n      <td>10</td>\n      <td>90</td>\n      <td>sweet</td>\n      <td>dessert</td>\n      <td>West Bengal</td>\n      <td>East</td>\n    </tr>\n    <tr>\n      <th>115</th>\n      <td>Rajma chaval</td>\n      <td>Red kidney beans, garam masala powder, ginger,...</td>\n      <td>vegetarian</td>\n      <td>15</td>\n      <td>90</td>\n      <td>spicy</td>\n      <td>main course</td>\n      <td>-1</td>\n      <td>North</td>\n    </tr>\n    <tr>\n      <th>83</th>\n      <td>Daal baati churma</td>\n      <td>Moong dal, masoor dal, chana dal, wheat flour,...</td>\n      <td>vegetarian</td>\n      <td>10</td>\n      <td>90</td>\n      <td>spicy</td>\n      <td>main course</td>\n      <td>Rajasthan</td>\n      <td>West</td>\n    </tr>\n    <tr>\n      <th>128</th>\n      <td>Dosa</td>\n      <td>Chana dal, urad dal, whole urad dal, blend ric...</td>\n      <td>vegetarian</td>\n      <td>360</td>\n      <td>90</td>\n      <td>spicy</td>\n      <td>snack</td>\n      <td>-1</td>\n      <td>South</td>\n    </tr>\n    <tr>\n      <th>130</th>\n      <td>Idli</td>\n      <td>Split urad dal, urad dal, idli rice, thick poh...</td>\n      <td>vegetarian</td>\n      <td>360</td>\n      <td>90</td>\n      <td>spicy</td>\n      <td>snack</td>\n      <td>-1</td>\n      <td>South</td>\n    </tr>\n    <tr>\n      <th>142</th>\n      <td>Kuzhakkattai</td>\n      <td>Sesame oil, raw rice, jaggery, grated coconut</td>\n      <td>vegetarian</td>\n      <td>10</td>\n      <td>90</td>\n      <td>spicy</td>\n      <td>main course</td>\n      <td>Tamil Nadu</td>\n      <td>South</td>\n    </tr>\n  </tbody>\n</table>\n</div>"
          },
          "metadata": {}
        }
      ],
      "execution_count": 40
    },
    {
      "cell_type": "code",
      "source": "state_df = df.groupby('state')[['cook_time', 'prep_time']].sum()",
      "metadata": {
        "trusted": true
      },
      "outputs": [],
      "execution_count": 41
    },
    {
      "cell_type": "code",
      "source": "state_df",
      "metadata": {
        "trusted": true
      },
      "outputs": [
        {
          "execution_count": 42,
          "output_type": "execute_result",
          "data": {
            "text/plain": "                 cook_time  prep_time\nstate                                \n-1                     841       1514\nAndhra Pradesh         375        610\nAssam                  300        120\nBihar                  200         65\nChhattisgarh            60         10\nGoa                     99         29\nGujarat                927        481\nHaryana                 60         10\nJammu & Kashmir         49         19\nKarnataka              265        365\nKerala                 234        574\nMadhya Pradesh          85         30\nMaharashtra           1533        462\nManipur                 44        239\nNCT of Delhi            35         10\nNagaland                15          5\nOdisha                 264         88\nPunjab                1195       1560\nRajasthan              240        137\nTamil Nadu             457        287\nTelangana              220         80\nTripura                 -1         -1\nUttar Pradesh          390        145\nUttarakhand             20         10\nWest Bengal            898       1083",
            "text/html": "<div>\n<style scoped>\n    .dataframe tbody tr th:only-of-type {\n        vertical-align: middle;\n    }\n\n    .dataframe tbody tr th {\n        vertical-align: top;\n    }\n\n    .dataframe thead th {\n        text-align: right;\n    }\n</style>\n<table border=\"1\" class=\"dataframe\">\n  <thead>\n    <tr style=\"text-align: right;\">\n      <th></th>\n      <th>cook_time</th>\n      <th>prep_time</th>\n    </tr>\n    <tr>\n      <th>state</th>\n      <th></th>\n      <th></th>\n    </tr>\n  </thead>\n  <tbody>\n    <tr>\n      <th>-1</th>\n      <td>841</td>\n      <td>1514</td>\n    </tr>\n    <tr>\n      <th>Andhra Pradesh</th>\n      <td>375</td>\n      <td>610</td>\n    </tr>\n    <tr>\n      <th>Assam</th>\n      <td>300</td>\n      <td>120</td>\n    </tr>\n    <tr>\n      <th>Bihar</th>\n      <td>200</td>\n      <td>65</td>\n    </tr>\n    <tr>\n      <th>Chhattisgarh</th>\n      <td>60</td>\n      <td>10</td>\n    </tr>\n    <tr>\n      <th>Goa</th>\n      <td>99</td>\n      <td>29</td>\n    </tr>\n    <tr>\n      <th>Gujarat</th>\n      <td>927</td>\n      <td>481</td>\n    </tr>\n    <tr>\n      <th>Haryana</th>\n      <td>60</td>\n      <td>10</td>\n    </tr>\n    <tr>\n      <th>Jammu &amp; Kashmir</th>\n      <td>49</td>\n      <td>19</td>\n    </tr>\n    <tr>\n      <th>Karnataka</th>\n      <td>265</td>\n      <td>365</td>\n    </tr>\n    <tr>\n      <th>Kerala</th>\n      <td>234</td>\n      <td>574</td>\n    </tr>\n    <tr>\n      <th>Madhya Pradesh</th>\n      <td>85</td>\n      <td>30</td>\n    </tr>\n    <tr>\n      <th>Maharashtra</th>\n      <td>1533</td>\n      <td>462</td>\n    </tr>\n    <tr>\n      <th>Manipur</th>\n      <td>44</td>\n      <td>239</td>\n    </tr>\n    <tr>\n      <th>NCT of Delhi</th>\n      <td>35</td>\n      <td>10</td>\n    </tr>\n    <tr>\n      <th>Nagaland</th>\n      <td>15</td>\n      <td>5</td>\n    </tr>\n    <tr>\n      <th>Odisha</th>\n      <td>264</td>\n      <td>88</td>\n    </tr>\n    <tr>\n      <th>Punjab</th>\n      <td>1195</td>\n      <td>1560</td>\n    </tr>\n    <tr>\n      <th>Rajasthan</th>\n      <td>240</td>\n      <td>137</td>\n    </tr>\n    <tr>\n      <th>Tamil Nadu</th>\n      <td>457</td>\n      <td>287</td>\n    </tr>\n    <tr>\n      <th>Telangana</th>\n      <td>220</td>\n      <td>80</td>\n    </tr>\n    <tr>\n      <th>Tripura</th>\n      <td>-1</td>\n      <td>-1</td>\n    </tr>\n    <tr>\n      <th>Uttar Pradesh</th>\n      <td>390</td>\n      <td>145</td>\n    </tr>\n    <tr>\n      <th>Uttarakhand</th>\n      <td>20</td>\n      <td>10</td>\n    </tr>\n    <tr>\n      <th>West Bengal</th>\n      <td>898</td>\n      <td>1083</td>\n    </tr>\n  </tbody>\n</table>\n</div>"
          },
          "metadata": {}
        }
      ],
      "execution_count": 42
    },
    {
      "cell_type": "code",
      "source": "state_mean_df = df.groupby('state')[[ 'prep_time', 'cook_time']].mean()",
      "metadata": {
        "trusted": true
      },
      "outputs": [],
      "execution_count": 43
    },
    {
      "cell_type": "code",
      "source": "state_mean_df",
      "metadata": {
        "trusted": true
      },
      "outputs": [
        {
          "execution_count": 44,
          "output_type": "execute_result",
          "data": {
            "text/plain": "                  prep_time  cook_time\nstate                                 \n-1                63.083333  35.041667\nAndhra Pradesh    61.000000  37.500000\nAssam              5.714286  14.285714\nBihar             21.666667  66.666667\nChhattisgarh      10.000000  60.000000\nGoa                9.666667  33.000000\nGujarat           13.742857  26.485714\nHaryana           10.000000  60.000000\nJammu & Kashmir    9.500000  24.500000\nKarnataka         60.833333  44.166667\nKerala            71.750000  29.250000\nMadhya Pradesh    15.000000  42.500000\nMaharashtra       15.400000  51.100000\nManipur          119.500000  22.000000\nNCT of Delhi      10.000000  35.000000\nNagaland           5.000000  15.000000\nOdisha            12.571429  37.714286\nPunjab            48.750000  37.343750\nRajasthan         22.833333  40.000000\nTamil Nadu        14.350000  22.850000\nTelangana         16.000000  44.000000\nTripura           -1.000000  -1.000000\nUttar Pradesh     16.111111  43.333333\nUttarakhand       10.000000  20.000000\nWest Bengal       45.125000  37.416667",
            "text/html": "<div>\n<style scoped>\n    .dataframe tbody tr th:only-of-type {\n        vertical-align: middle;\n    }\n\n    .dataframe tbody tr th {\n        vertical-align: top;\n    }\n\n    .dataframe thead th {\n        text-align: right;\n    }\n</style>\n<table border=\"1\" class=\"dataframe\">\n  <thead>\n    <tr style=\"text-align: right;\">\n      <th></th>\n      <th>prep_time</th>\n      <th>cook_time</th>\n    </tr>\n    <tr>\n      <th>state</th>\n      <th></th>\n      <th></th>\n    </tr>\n  </thead>\n  <tbody>\n    <tr>\n      <th>-1</th>\n      <td>63.083333</td>\n      <td>35.041667</td>\n    </tr>\n    <tr>\n      <th>Andhra Pradesh</th>\n      <td>61.000000</td>\n      <td>37.500000</td>\n    </tr>\n    <tr>\n      <th>Assam</th>\n      <td>5.714286</td>\n      <td>14.285714</td>\n    </tr>\n    <tr>\n      <th>Bihar</th>\n      <td>21.666667</td>\n      <td>66.666667</td>\n    </tr>\n    <tr>\n      <th>Chhattisgarh</th>\n      <td>10.000000</td>\n      <td>60.000000</td>\n    </tr>\n    <tr>\n      <th>Goa</th>\n      <td>9.666667</td>\n      <td>33.000000</td>\n    </tr>\n    <tr>\n      <th>Gujarat</th>\n      <td>13.742857</td>\n      <td>26.485714</td>\n    </tr>\n    <tr>\n      <th>Haryana</th>\n      <td>10.000000</td>\n      <td>60.000000</td>\n    </tr>\n    <tr>\n      <th>Jammu &amp; Kashmir</th>\n      <td>9.500000</td>\n      <td>24.500000</td>\n    </tr>\n    <tr>\n      <th>Karnataka</th>\n      <td>60.833333</td>\n      <td>44.166667</td>\n    </tr>\n    <tr>\n      <th>Kerala</th>\n      <td>71.750000</td>\n      <td>29.250000</td>\n    </tr>\n    <tr>\n      <th>Madhya Pradesh</th>\n      <td>15.000000</td>\n      <td>42.500000</td>\n    </tr>\n    <tr>\n      <th>Maharashtra</th>\n      <td>15.400000</td>\n      <td>51.100000</td>\n    </tr>\n    <tr>\n      <th>Manipur</th>\n      <td>119.500000</td>\n      <td>22.000000</td>\n    </tr>\n    <tr>\n      <th>NCT of Delhi</th>\n      <td>10.000000</td>\n      <td>35.000000</td>\n    </tr>\n    <tr>\n      <th>Nagaland</th>\n      <td>5.000000</td>\n      <td>15.000000</td>\n    </tr>\n    <tr>\n      <th>Odisha</th>\n      <td>12.571429</td>\n      <td>37.714286</td>\n    </tr>\n    <tr>\n      <th>Punjab</th>\n      <td>48.750000</td>\n      <td>37.343750</td>\n    </tr>\n    <tr>\n      <th>Rajasthan</th>\n      <td>22.833333</td>\n      <td>40.000000</td>\n    </tr>\n    <tr>\n      <th>Tamil Nadu</th>\n      <td>14.350000</td>\n      <td>22.850000</td>\n    </tr>\n    <tr>\n      <th>Telangana</th>\n      <td>16.000000</td>\n      <td>44.000000</td>\n    </tr>\n    <tr>\n      <th>Tripura</th>\n      <td>-1.000000</td>\n      <td>-1.000000</td>\n    </tr>\n    <tr>\n      <th>Uttar Pradesh</th>\n      <td>16.111111</td>\n      <td>43.333333</td>\n    </tr>\n    <tr>\n      <th>Uttarakhand</th>\n      <td>10.000000</td>\n      <td>20.000000</td>\n    </tr>\n    <tr>\n      <th>West Bengal</th>\n      <td>45.125000</td>\n      <td>37.416667</td>\n    </tr>\n  </tbody>\n</table>\n</div>"
          },
          "metadata": {}
        }
      ],
      "execution_count": 44
    },
    {
      "cell_type": "code",
      "source": "",
      "metadata": {
        "trusted": true
      },
      "outputs": [],
      "execution_count": null
    }
  ]
}